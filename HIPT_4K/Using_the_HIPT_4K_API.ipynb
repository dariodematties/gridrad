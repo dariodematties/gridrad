{
 "cells": [
  {
   "cell_type": "code",
   "execution_count": null,
   "id": "2aece6f7-3f1f-48a5-90ce-41c2c8e96691",
   "metadata": {},
   "outputs": [],
   "source": [
    "from hipt_4k import HIPT_4K\n",
    "from hipt_heatmap_utils import Image\n",
    "from hipt_model_utils import eval_transforms"
   ]
  },
  {
   "cell_type": "code",
   "execution_count": null,
   "id": "74c0172f-ca5b-4264-b345-cad6a3b1a9e5",
   "metadata": {},
   "outputs": [],
   "source": [
    "model = HIPT_4K()\n",
    "model.eval()"
   ]
  },
  {
   "cell_type": "code",
   "execution_count": null,
   "id": "b4aa657a-46d3-4d54-aa84-3a2ae22b0a72",
   "metadata": {},
   "outputs": [],
   "source": [
    "region = Image.open('image_demo/image_4k.png')\n",
    "x = eval_transforms()(region).unsqueeze(dim=0)\n",
    "out = model.forward(x)"
   ]
  },
  {
   "cell_type": "code",
   "execution_count": null,
   "id": "55f75eef-d9b2-4986-afd2-ab020144735e",
   "metadata": {},
   "outputs": [],
   "source": [
    "print(out.shape)"
   ]
  },
  {
   "cell_type": "code",
   "execution_count": null,
   "id": "da9d5bbe-f982-41ae-b0ff-5285d9dc7f14",
   "metadata": {},
   "outputs": [],
   "source": []
  }
 ],
 "metadata": {
  "kernelspec": {
   "display_name": "gridrad",
   "language": "python",
   "name": "gridrad"
  },
  "language_info": {
   "codemirror_mode": {
    "name": "ipython",
    "version": 3
   },
   "file_extension": ".py",
   "mimetype": "text/x-python",
   "name": "python",
   "nbconvert_exporter": "python",
   "pygments_lexer": "ipython3",
   "version": "3.12.9"
  }
 },
 "nbformat": 4,
 "nbformat_minor": 5
}
