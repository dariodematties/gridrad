{
 "cells": [
  {
   "cell_type": "markdown",
   "id": "b5282593-aeab-43f2-a6fe-d49d75a79b14",
   "metadata": {},
   "source": [
    "# Dependences"
   ]
  },
  {
   "cell_type": "code",
   "execution_count": null,
   "id": "dd3aecc8-cab3-4aad-b9af-3cba51c15336",
   "metadata": {},
   "outputs": [],
   "source": [
    "import torch\n",
    "import torchvision\n",
    "from torchvision import transforms\n",
    "print('torchvision version', torchvision.__version__)     # Needs at least >= 0.8.0 to do cropping on tensors\n",
    "\n",
    "from vision_transformer import vit_small\n",
    "from vision_transformer4k import vit4k_xs\n",
    "from main_dino4k import DataAugmentationDINO4K\n",
    "\n",
    "def count_parameters(model):\n",
    "    return sum(p.numel() for p in model.parameters() if p.requires_grad)"
   ]
  },
  {
   "cell_type": "markdown",
   "id": "48990dd7-88ef-464f-92d3-f202d4ef7dc8",
   "metadata": {},
   "source": [
    "# ViT-16 Model"
   ]
  },
  {
   "cell_type": "code",
   "execution_count": null,
   "id": "457e47af-3a7e-4124-ac4d-84500276b85d",
   "metadata": {},
   "outputs": [],
   "source": [
    "model = vit_small()\n",
    "print(\"Num Parameters:\", count_parameters(model))\n",
    "\n",
    "x = torch.randn(4, 1, 256, 256)\n",
    "print(\"1. Input Shape:\", x.shape)\n",
    "out = model(x)\n",
    "print(\"2. Output Shape:\", out.shape)"
   ]
  },
  {
   "cell_type": "markdown",
   "id": "a91ca491-8465-445e-91f3-569f05b80a3d",
   "metadata": {},
   "source": [
    "# ViT-256 Model"
   ]
  },
  {
   "cell_type": "code",
   "execution_count": null,
   "id": "b307cb63-463c-4e4a-9d78-f62bc16a113f",
   "metadata": {},
   "outputs": [],
   "source": [
    "model = vit4k_xs()\n",
    "print(\"Num Parameters:\", count_parameters(model))\n",
    "\n",
    "t_tensorcrop = transforms.Compose([\n",
    "    transforms.RandomCrop(14), # 14 x 14 for \"global\" crop, 6 x 6 for \"local\" crop\n",
    "])\n",
    "\n",
    "# [14 x 14] crop in a 16 x 16 grid would retain the same relative information as [224 x 224] in a 256 x 256 img\n",
    "assert 224/256 == 14/16\n",
    "\n",
    "# [6 x 6] crop in a 16 x 16 grid would retain the same relative information as [96 x 96] in a 256 x 256 img\n",
    "assert 96/256 == 6/16\n",
    "\n",
    "x_bag = torch.rand(256, 384)\n",
    "print('1. For a 4K x 4K image, torch.load in 256-len sequence of 384-dim embeddings:', x_bag.shape)\n",
    "x_bag = x_bag.unsqueeze(dim=0).unfold(1, 16, 16).transpose(1,2)\n",
    "print('2. Reshape this sequence to be a 2D image grid (B NC W H):', x_bag.shape)\n",
    "x_bag = t_tensorcrop(x_bag)\n",
    "print('3. Applying 2D cropping (B NC W H):', x_bag.shape)\n",
    "_ = model(x_bag)\n",
    "print('4. Out:', _.shape)"
   ]
  },
  {
   "cell_type": "code",
   "execution_count": null,
   "id": "0650864b-e7b5-4a62-94d3-d85457751f21",
   "metadata": {},
   "outputs": [],
   "source": [
    "t_dino = DataAugmentationDINO4K(8)\n",
    "\n",
    "x_bag = torch.randn(256, 384)\n",
    "x_crops = t_dino(x_bag)\n",
    "for idx, crop in enumerate(x_crops):\n",
    "    print('Crop %d:' % (idx+1), crop.shape)"
   ]
  },
  {
   "cell_type": "code",
   "execution_count": null,
   "id": "13bed969-d741-4d1f-9132-0d7e55ef73a9",
   "metadata": {},
   "outputs": [],
   "source": []
  }
 ],
 "metadata": {
  "kernelspec": {
   "display_name": "gridrad",
   "language": "python",
   "name": "gridrad"
  },
  "language_info": {
   "codemirror_mode": {
    "name": "ipython",
    "version": 3
   },
   "file_extension": ".py",
   "mimetype": "text/x-python",
   "name": "python",
   "nbconvert_exporter": "python",
   "pygments_lexer": "ipython3",
   "version": "3.12.9"
  }
 },
 "nbformat": 4,
 "nbformat_minor": 5
}
