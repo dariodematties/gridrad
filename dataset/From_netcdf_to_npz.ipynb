{
 "cells": [
  {
   "cell_type": "code",
   "execution_count": null,
   "id": "6070a088-9d0c-4cf3-a7fe-972fa79ef6cf",
   "metadata": {},
   "outputs": [],
   "source": [
    "from utils import process_directory_tree"
   ]
  },
  {
   "cell_type": "code",
   "execution_count": null,
   "id": "2dc21c94-6370-4ad7-b371-d43debb2c927",
   "metadata": {
    "scrolled": true
   },
   "outputs": [],
   "source": [
    "input_dir = '/home/dariodematties/SATELLITE/GridRad/'\n",
    "output_dir = '/home/dariodematties/SATELLITE/output_npz/'\n",
    "process_directory_tree(input_dir=input_dir, output_dir=output_dir, checkpoint_file='checkpoint_file', n_workers=10)"
   ]
  },
  {
   "cell_type": "code",
   "execution_count": null,
   "id": "606bbdf9-8ee6-4003-ba67-b12b90bc75cd",
   "metadata": {},
   "outputs": [],
   "source": []
  }
 ],
 "metadata": {
  "kernelspec": {
   "display_name": "gridrad",
   "language": "python",
   "name": "gridrad"
  },
  "language_info": {
   "codemirror_mode": {
    "name": "ipython",
    "version": 3
   },
   "file_extension": ".py",
   "mimetype": "text/x-python",
   "name": "python",
   "nbconvert_exporter": "python",
   "pygments_lexer": "ipython3",
   "version": "3.12.9"
  }
 },
 "nbformat": 4,
 "nbformat_minor": 5
}
