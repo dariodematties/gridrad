{
 "cells": [
  {
   "cell_type": "code",
   "execution_count": null,
   "id": "03f09a7b-d1d8-414b-8a45-5868f0960937",
   "metadata": {},
   "outputs": [],
   "source": [
    "from utils import process_npz_folder_parallel"
   ]
  },
  {
   "cell_type": "code",
   "execution_count": null,
   "id": "9b062b05-e2c9-49f4-a655-55cb8420661c",
   "metadata": {},
   "outputs": [],
   "source": [
    "input_folder = '/home/dariodematties/SATELLITE/output_npz/'\n",
    "output_folder = \"/home/dariodematties/SATELLITE/output_folder/\""
   ]
  },
  {
   "cell_type": "code",
   "execution_count": null,
   "id": "0e22e2c4-1f0f-4d98-8443-47013e8cb401",
   "metadata": {},
   "outputs": [],
   "source": [
    "process_npz_folder_parallel(input_folder, output_folder)"
   ]
  },
  {
   "cell_type": "code",
   "execution_count": null,
   "id": "d312ed05-26ad-4c5f-939a-d48db269d8aa",
   "metadata": {},
   "outputs": [],
   "source": []
  }
 ],
 "metadata": {
  "kernelspec": {
   "display_name": "gridrad",
   "language": "python",
   "name": "gridrad"
  },
  "language_info": {
   "codemirror_mode": {
    "name": "ipython",
    "version": 3
   },
   "file_extension": ".py",
   "mimetype": "text/x-python",
   "name": "python",
   "nbconvert_exporter": "python",
   "pygments_lexer": "ipython3",
   "version": "3.12.9"
  }
 },
 "nbformat": 4,
 "nbformat_minor": 5
}
