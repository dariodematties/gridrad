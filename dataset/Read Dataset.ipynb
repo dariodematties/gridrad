{
 "cells": [
  {
   "cell_type": "code",
   "execution_count": null,
   "id": "90b9321f-61a3-45ad-b9bf-9818117a8d2a",
   "metadata": {},
   "outputs": [],
   "source": [
    "import os\n",
    "import torch\n",
    "import numpy as np\n",
    "from utils import plot_crop_and_patches, process_npz_files_progressive\n",
    "import matplotlib.pyplot as plt"
   ]
  },
  {
   "cell_type": "code",
   "execution_count": null,
   "id": "fcd3685e-8e48-4fe5-a92f-9d9f9e004fbc",
   "metadata": {},
   "outputs": [],
   "source": [
    "data_path = '/home/dariodematties/SATELLITE/Output/NASALARC_GOES16_CONVECTION_DETECTION_20210705_1940.npz'"
   ]
  },
  {
   "cell_type": "code",
   "execution_count": null,
   "id": "5e0852fa-1996-41ff-874f-cbff64281b15",
   "metadata": {},
   "outputs": [],
   "source": [
    "data = np.load(data_path)"
   ]
  },
  {
   "cell_type": "code",
   "execution_count": null,
   "id": "07041608-dc3e-42d7-8b76-71b2bc635419",
   "metadata": {},
   "outputs": [],
   "source": [
    "data.keys()"
   ]
  },
  {
   "cell_type": "code",
   "execution_count": null,
   "id": "86286427-9ac5-4ea1-9375-6ab5853ce99c",
   "metadata": {},
   "outputs": [],
   "source": [
    "crops = data['crop']\n",
    "print(crops.shape)\n",
    "patches = data['patches']\n",
    "print(patches.shape)"
   ]
  },
  {
   "cell_type": "code",
   "execution_count": null,
   "id": "36475211-f168-4f42-bdc7-e5d6259e5b46",
   "metadata": {},
   "outputs": [],
   "source": [
    "plot_crop_and_patches(crop=crops[0,:,:], patches=patches[:,:,0,:,:])"
   ]
  },
  {
   "cell_type": "code",
   "execution_count": null,
   "id": "6998c18d-586f-4305-a740-0a1ad6cc3ce2",
   "metadata": {},
   "outputs": [],
   "source": [
    "plot_crop_and_patches(crop=crops[1,:,:], patches=patches[:,:,1,:,:])"
   ]
  },
  {
   "cell_type": "code",
   "execution_count": null,
   "id": "32a641b5-c147-4b50-ad88-d1c9c61df10e",
   "metadata": {},
   "outputs": [],
   "source": [
    "directory_path = '/home/dariodematties/SATELLITE/Output/'"
   ]
  },
  {
   "cell_type": "code",
   "execution_count": null,
   "id": "612d9e41-272e-46f3-8c30-c65b0488085c",
   "metadata": {},
   "outputs": [],
   "source": [
    "# Replace with the path to your folder containing npz files\n",
    "process_npz_files_progressive(directory_path)"
   ]
  },
  {
   "cell_type": "code",
   "execution_count": null,
   "id": "7f51b80d-a1b6-4d1c-8ac1-31305ee22689",
   "metadata": {},
   "outputs": [],
   "source": [
    "CROPS = torch.load(os.path.join(directory_path, 'crops_37.pt'))\n",
    "print(CROPS.shape)\n",
    "PATCHES = torch.load(os.path.join(directory_path, 'patches_101.pt'))\n",
    "print(PATCHES.shape)"
   ]
  },
  {
   "cell_type": "code",
   "execution_count": null,
   "id": "78e5c0c9-8084-4f27-9d3b-79b478122757",
   "metadata": {},
   "outputs": [],
   "source": [
    "# Plot the 2D array with colors\n",
    "plt.imshow(CROPS[2], cmap='viridis')  # Use a colormap like 'viridis', 'jet', 'gray'\n",
    "\n",
    "# Show the plot\n",
    "plt.show()"
   ]
  },
  {
   "cell_type": "code",
   "execution_count": null,
   "id": "64cf2124-f78e-417c-b415-abab62ba896f",
   "metadata": {},
   "outputs": [],
   "source": [
    "# Plot the 2D array with colors\n",
    "plt.imshow(PATCHES[14], cmap='viridis')  # Use a colormap like 'viridis', 'jet', 'gray'\n",
    "\n",
    "# Show the plot\n",
    "plt.show()"
   ]
  },
  {
   "cell_type": "code",
   "execution_count": null,
   "id": "31653d52-f20c-470f-8a4e-d2cb5bed0d5e",
   "metadata": {},
   "outputs": [],
   "source": []
  }
 ],
 "metadata": {
  "kernelspec": {
   "display_name": "gridrad",
   "language": "python",
   "name": "gridrad"
  },
  "language_info": {
   "codemirror_mode": {
    "name": "ipython",
    "version": 3
   },
   "file_extension": ".py",
   "mimetype": "text/x-python",
   "name": "python",
   "nbconvert_exporter": "python",
   "pygments_lexer": "ipython3",
   "version": "3.12.9"
  }
 },
 "nbformat": 4,
 "nbformat_minor": 5
}
