{
 "cells": [
  {
   "cell_type": "code",
   "execution_count": null,
   "id": "1e1ac777-297c-46d8-972a-873f6be8961a",
   "metadata": {},
   "outputs": [],
   "source": [
    "from datetime import datetime\n",
    "from utils import print_netcdf_info, open_netcdf, close_netcdf, plot_2d_variables, process_nc_file, plot_crop_and_patches\n",
    "from utils import process_nc_file_two_channels, process_directory_tree\n",
    "\n",
    "# Specify the path to your NetCDF file\n",
    "file_path = '/home/dariodematties/SATELLITE/GridRad/202107/NASALARC_GOES16_CONVECTION_DETECTION_20210705_1750.nc'"
   ]
  },
  {
   "cell_type": "code",
   "execution_count": null,
   "id": "b1e11a0d-d816-43ee-bd42-2824a039ef4f",
   "metadata": {},
   "outputs": [],
   "source": [
    "print_netcdf_info(file_path)"
   ]
  },
  {
   "cell_type": "code",
   "execution_count": null,
   "id": "e3726b47-ce38-4804-85bd-d0c02f1cebdf",
   "metadata": {},
   "outputs": [],
   "source": [
    "# Plot the 2D array with colors\n",
    "nc_file = open_netcdf(file_path)\n",
    "plot_2d_variables(nc_file=nc_file)"
   ]
  },
  {
   "cell_type": "code",
   "execution_count": null,
   "id": "556cb79d-84bf-41ad-a58a-98ffe40a2b73",
   "metadata": {},
   "outputs": [],
   "source": [
    "# Example usage:\n",
    "crop, patches = process_nc_file_two_channels(nc_file)\n",
    "print(\"Crop shape:\", crop.shape)       # Expected: (2, 2048, 2048)\n",
    "print(\"Patches shape:\", patches.shape) # Expected: (8, 8, 2, 256, 256)"
   ]
  },
  {
   "cell_type": "code",
   "execution_count": null,
   "id": "13f7e3af-9a3e-4951-b94c-c3d7f5e7227b",
   "metadata": {},
   "outputs": [],
   "source": [
    "plot_crop_and_patches(crop=crop[0,:,:], patches=patches[:,:,0,:,:])"
   ]
  },
  {
   "cell_type": "code",
   "execution_count": null,
   "id": "7f04ad12-0aae-45f6-9471-8ba6c817c4ae",
   "metadata": {},
   "outputs": [],
   "source": [
    "plot_crop_and_patches(crop=crop[1,:,:], patches=patches[:,:,1,:,:])"
   ]
  },
  {
   "cell_type": "code",
   "execution_count": null,
   "id": "a7a83711-359c-44fc-b663-d998695465c0",
   "metadata": {},
   "outputs": [],
   "source": [
    "close_netcdf(nc_file)"
   ]
  },
  {
   "cell_type": "code",
   "execution_count": null,
   "id": "23ee652c-93c7-483f-ba5d-9e7c50b8dc24",
   "metadata": {},
   "outputs": [],
   "source": []
  }
 ],
 "metadata": {
  "kernelspec": {
   "display_name": "gridrad",
   "language": "python",
   "name": "gridrad"
  },
  "language_info": {
   "codemirror_mode": {
    "name": "ipython",
    "version": 3
   },
   "file_extension": ".py",
   "mimetype": "text/x-python",
   "name": "python",
   "nbconvert_exporter": "python",
   "pygments_lexer": "ipython3",
   "version": "3.12.9"
  }
 },
 "nbformat": 4,
 "nbformat_minor": 5
}
