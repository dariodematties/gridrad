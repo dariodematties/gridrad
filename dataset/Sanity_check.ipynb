{
 "cells": [
  {
   "cell_type": "code",
   "execution_count": null,
   "id": "5c8620ee-ffec-4b7e-82dc-40ae6a009f09",
   "metadata": {},
   "outputs": [],
   "source": [
    "from utils import sanity_check_pt_files"
   ]
  },
  {
   "cell_type": "code",
   "execution_count": null,
   "id": "3f2fa7a7-3b89-4eb7-8349-b6f572bad95d",
   "metadata": {},
   "outputs": [],
   "source": [
    "# Sanity check on crops\n",
    "sanity_check_pt_files(\n",
    "    folder_path = '/home/dariodematties/SATELLITE/output_folder/crops/',\n",
    "    local_std_threshold=1e2,\n",
    "    global_std_threshold=1e2,\n",
    "    num_workers=4,\n",
    "    checkpoint_file='crops_sanity_checkpoint.txt',\n",
    "    diagnosis_file='crops_sanity_diagnosis.txt',\n",
    "    dry_run=True,\n",
    ")"
   ]
  },
  {
   "cell_type": "code",
   "execution_count": null,
   "id": "e915a39a-2040-404b-8fc7-993a70d1f455",
   "metadata": {},
   "outputs": [],
   "source": [
    "# Sanity check on patches\n",
    "sanity_check_pt_files(\n",
    "    folder_path = '/home/dariodematties/SATELLITE/output_folder/patches/',\n",
    "    local_std_threshold=1e2,\n",
    "    global_std_threshold=1e2,\n",
    "    num_workers=4,\n",
    "    checkpoint_file='patches_sanity_checkpoint.txt',\n",
    "    diagnosis_file='patches_sanity_diagnosis.txt',\n",
    "    dry_run=True,\n",
    ")"
   ]
  },
  {
   "cell_type": "code",
   "execution_count": null,
   "id": "7402c284-eee1-492b-830c-e8c88663c837",
   "metadata": {},
   "outputs": [],
   "source": []
  }
 ],
 "metadata": {
  "kernelspec": {
   "display_name": "Python 3 (ipykernel)",
   "language": "python",
   "name": "python3"
  },
  "language_info": {
   "codemirror_mode": {
    "name": "ipython",
    "version": 3
   },
   "file_extension": ".py",
   "mimetype": "text/x-python",
   "name": "python",
   "nbconvert_exporter": "python",
   "pygments_lexer": "ipython3",
   "version": "3.12.9"
  }
 },
 "nbformat": 4,
 "nbformat_minor": 5
}
